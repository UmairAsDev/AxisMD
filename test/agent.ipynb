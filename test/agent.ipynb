{
 "cells": [
  {
   "cell_type": "code",
   "execution_count": 1,
   "id": "c0c7f005",
   "metadata": {},
   "outputs": [
    {
     "name": "stderr",
     "output_type": "stream",
     "text": [
      "c:\\Users\\Umair\\AppData\\Local\\pypoetry\\Cache\\virtualenvs\\axismd-fzWAkm0g-py3.11\\Lib\\site-packages\\webrtcvad.py:1: UserWarning: pkg_resources is deprecated as an API. See https://setuptools.pypa.io/en/latest/pkg_resources.html. The pkg_resources package is slated for removal as early as 2025-11-30. Refrain from using this package or pin to Setuptools<81.\n",
      "  import pkg_resources\n"
     ]
    }
   ],
   "source": [
    "import pyaudio\n",
    "import wave\n",
    "import webrtcvad\n",
    "import threading\n",
    "import time\n",
    "\n",
    "class AudioRecorder:\n",
    "    def __init__(self, sample_rate=16000, frame_duration=30):\n",
    "        self.sample_rate = sample_rate\n",
    "        self.frame_duration = frame_duration\n",
    "        self.frame_size = int(sample_rate * frame_duration / 1000)\n",
    "        self.vad = webrtcvad.Vad(3)\n",
    "        self.channels = 1\n",
    "        self.format = pyaudio.paInt16\n",
    "        self.buffer = []\n",
    "        self.is_recording = False\n",
    "        self.start_time = None\n",
    "        self.end_time = None\n",
    "\n",
    "    def start(self):\n",
    "        \"\"\"Start recording until stopped manually.\"\"\"\n",
    "        self.is_recording = True\n",
    "        self.buffer = []\n",
    "        self.start_time = time.time()\n",
    "\n",
    "        def record_loop():\n",
    "            pa = pyaudio.PyAudio()\n",
    "            stream = pa.open(format=self.format,\n",
    "                             channels=self.channels,\n",
    "                             rate=self.sample_rate,\n",
    "                             input=True,\n",
    "                             frames_per_buffer=self.frame_size)\n",
    "\n",
    "            while self.is_recording:\n",
    "                pcm = stream.read(self.frame_size, exception_on_overflow=False)\n",
    "                if self.vad.is_speech(pcm, self.sample_rate):\n",
    "                    self.buffer.append(pcm)\n",
    "\n",
    "            self.end_time = time.time()\n",
    "            stream.stop_stream()\n",
    "            stream.close()\n",
    "            pa.terminate()\n",
    "\n",
    "\n",
    "        threading.Thread(target=record_loop, daemon=True).start()\n",
    "        print(\"Recording started...\")\n",
    "\n",
    "    def stop(self):\n",
    "        \"\"\"Stop recording.\"\"\"\n",
    "        self.is_recording = False\n",
    "        print(\"Recording stopped.\")\n",
    "\n",
    "    def save_file(self, filename=\"speech.wav\"):\n",
    "        if self.buffer:\n",
    "            with wave.open(filename, \"wb\") as wf:\n",
    "                wf.setnchannels(self.channels)\n",
    "                wf.setsampwidth(pyaudio.PyAudio().get_sample_size(self.format))\n",
    "                wf.setframerate(self.sample_rate)\n",
    "                wf.writeframes(b\"\".join(self.buffer))\n",
    "            print(f\"Saved audio to {filename}\")\n",
    "        else:\n",
    "            print(\"No speech detected\")\n",
    "\n",
    "    def get_conversation_time(self):\n",
    "        \"\"\"Get total recording time.\"\"\"\n",
    "        if self.start_time and self.end_time:\n",
    "            return round(self.end_time - self.start_time, 2)\n",
    "        return 0"
   ]
  },
  {
   "cell_type": "code",
   "execution_count": 2,
   "id": "0183d960",
   "metadata": {},
   "outputs": [
    {
     "name": "stdout",
     "output_type": "stream",
     "text": [
      "Recording started...\n",
      "Recording for 50 seconds...\n"
     ]
    }
   ],
   "source": [
    "recorder = AudioRecorder()\n",
    "recorder.start()\n",
    "print(\"Recording for 50 seconds...\")"
   ]
  },
  {
   "cell_type": "code",
   "execution_count": 3,
   "id": "993670cc",
   "metadata": {},
   "outputs": [
    {
     "name": "stdout",
     "output_type": "stream",
     "text": [
      "Recording stopped.\n",
      "Saved audio to my_recording.wav\n",
      "Done! Saved as my_recording.wav\n"
     ]
    }
   ],
   "source": [
    "recorder.stop()\n",
    "recorder.save_file(\"my_recording.wav\")\n",
    "print(\"Done! Saved as my_recording.wav\")"
   ]
  },
  {
   "cell_type": "code",
   "execution_count": 17,
   "id": "bd3bc6c0",
   "metadata": {},
   "outputs": [],
   "source": [
    "from openai import OpenAI\n",
    "from dotenv import load_dotenv\n",
    "load_dotenv()\n",
    "\n",
    "class SpeechProcessor:\n",
    "    def __init__(self, filepath:str):\n",
    "        self.filepath = filepath\n",
    "    \n",
    "    async def transcribe_audio(self):\n",
    "       client = OpenAI(api_key = os.getenv(\"OPENAI_API_KEY\"))\n",
    "       audio_file = open(self.filepath,\"rb\")\n",
    "       transcription = client.audio.transcriptions.create(\n",
    "           model = \"gpt-4o-mini-transcribe\",\n",
    "           file = audio_file,\n",
    "           response_format=\"json\",\n",
    "           language = \"en\",\n",
    "           prompt = \"\"\"While converting an audio file to text correct the words.\n",
    "           and check they are medically correct or not and complete the ords dont add extra text.\"\n",
    "            \"\"\"\n",
    "       )\n",
    "       return transcription.text"
   ]
  },
  {
   "cell_type": "code",
   "execution_count": 18,
   "id": "fc4fe866",
   "metadata": {},
   "outputs": [
    {
     "name": "stdout",
     "output_type": "stream",
     "text": [
      "here is the textDermatologists are medical doctors specializing in skin, hair, and nails. Dermatologists also handle cosmetic disorders like hair loss and scars. Your dermatologist will examine you and order tests to make a diagnosis and treat a condition with medication or a procedure.\n"
     ]
    }
   ],
   "source": [
    "filepath = \"D:/AxisMD/voice/my_recording.wav\"\n",
    "transcripter = SpeechProcessor(filepath)\n",
    "text = await transcripter.transcribe_audio()\n",
    "print(f\"here is the text{text}\")"
   ]
  },
  {
   "cell_type": "code",
   "execution_count": 4,
   "id": "31fbafc4",
   "metadata": {},
   "outputs": [],
   "source": [
    "import json\n",
    "from typing import List, Dict, Optional\n",
    "\n",
    "class ClinicalPromptBuilder:\n",
    "    def __init__(self, base_template: Dict, audio_transcript:str):\n",
    "        self.base_template = base_template\n",
    "        self.audio_transcript = audio_transcript\n",
    "\n",
    "    def build_prompt(self):\n",
    "        \"\"\"\n",
    "        Builds a clinical note generation prompt for the LLM.\n",
    "        \"\"\"\n",
    "        template_dict = self.base_template.copy()\n",
    "        \n",
    "\n",
    "        prompt = f\"\"\"\n",
    "        This is dictated by a doctor in the specialty{template_dict.get(\"specialty\")} and subspecialty {template_dict.get(\"subspecialty\")}. \n",
    "        to a voice assistant to generate a clinical note. While dictating, there might be \n",
    "        transcription errors (wrong drug names, conditions, or procedures).\n",
    "\n",
    "        Raw transcript:\n",
    "        \\\"\\\"\\\"{self.audio_transcript}\\\"\\\"\\\"\n",
    "\n",
    "        Your task:\n",
    "        1. Correct transcription mistakes using appropriate medical context.\n",
    "        2. Extract structured information into the JSON schema:\n",
    "        {json.dumps(template_dict, indent=2)}\n",
    "\n",
    "        Rules:\n",
    "        - Only include information explicitly stated or implied in the transcript.\n",
    "        - Insert findings into the relevant sections (including physical exam objectives).\n",
    "        - Assign correct ICD codes and CPT codes.\n",
    "        - If insufficient content, return:\n",
    "        {{\n",
    "        \"error\": \"Insufficient or unrelated content\"\n",
    "        }}\n",
    "        - Format based on requested style: {template_dict.get(\"output_style\")}.\n",
    "        - Output must be ONLY the JSON object, no extra text.\n",
    "        \"\"\"\n",
    "        return prompt.strip()"
   ]
  },
  {
   "cell_type": "code",
   "execution_count": 22,
   "id": "9de74a78",
   "metadata": {},
   "outputs": [],
   "source": [
    "schema = {}\n",
    "\n",
    "prompt = ClinicalPromptBuilder(schema, text)\n",
    "format = prompt.build_prompt()"
   ]
  },
  {
   "cell_type": "code",
   "execution_count": 23,
   "id": "bc0a03d8",
   "metadata": {},
   "outputs": [
    {
     "name": "stdout",
     "output_type": "stream",
     "text": [
      "This is dictated by a doctor in the specialtyNone and subspecialty None. \n",
      "        to a voice assistant to generate a clinical note. While dictating, there might be \n",
      "        transcription errors (wrong drug names, conditions, or procedures).\n",
      "\n",
      "        Raw transcript:\n",
      "        \"\"\"Dermatologists are medical doctors specializing in skin, hair, and nails. Dermatologists also handle cosmetic disorders like hair loss and scars. Your dermatologist will examine you and order tests to make a diagnosis and treat a condition with medication or a procedure.\"\"\"\n",
      "\n",
      "        Your task:\n",
      "        1. Correct transcription mistakes using appropriate medical context.\n",
      "        2. Extract structured information into the JSON schema:\n",
      "        {}\n",
      "\n",
      "        Rules:\n",
      "        - Only include information explicitly stated or implied in the transcript.\n",
      "        - Insert findings into the relevant sections (including physical exam objectives).\n",
      "        - Assign correct ICD codes and CPT codes.\n",
      "        - If insufficient content, return:\n",
      "        {\n",
      "        \"error\": \"Insufficient or unrelated content\"\n",
      "        }\n",
      "        - Format based on requested style: None.\n",
      "        - Output must be ONLY the JSON object, no extra text.\n"
     ]
    }
   ],
   "source": [
    "print(format)"
   ]
  },
  {
   "cell_type": "code",
   "execution_count": null,
   "id": "ee04907a",
   "metadata": {},
   "outputs": [],
   "source": []
  }
 ],
 "metadata": {
  "kernelspec": {
   "display_name": "axismd-fzWAkm0g-py3.11",
   "language": "python",
   "name": "python3"
  },
  "language_info": {
   "codemirror_mode": {
    "name": "ipython",
    "version": 3
   },
   "file_extension": ".py",
   "mimetype": "text/x-python",
   "name": "python",
   "nbconvert_exporter": "python",
   "pygments_lexer": "ipython3",
   "version": "3.11.9"
  }
 },
 "nbformat": 4,
 "nbformat_minor": 5
}
